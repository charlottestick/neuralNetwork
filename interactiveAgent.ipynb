{
 "cells": [
  {
   "cell_type": "code",
   "execution_count": 3,
   "metadata": {},
   "outputs": [],
   "source": [
    "from agent import Agent\n",
    "import os\n",
    "\n",
    "# Hide tensorflow's info level logs, warnings and errors will still show\n",
    "os.environ['TF_CPP_MIN_LOG_LEVEL'] = '1' \n",
    "\n",
    "agent = Agent()"
   ]
  },
  {
   "cell_type": "code",
   "execution_count": null,
   "metadata": {},
   "outputs": [],
   "source": [
    "print('Superclass confusion matrix:', agent.generateConfusionMatrix('superclass'))\n",
    "print('Class confusion matrix:', agent.generateConfusionMatrix('class'))\n",
    "print('Subclass confusion matrix:', agent.generateConfusionMatrix('subclass'))"
   ]
  },
  {
   "cell_type": "code",
   "execution_count": 4,
   "metadata": {},
   "outputs": [
    {
     "name": "stdout",
     "output_type": "stream",
     "text": [
      "313/313 [==============================] - 22s 67ms/step - loss: 0.5473 - accuracy: 0.7206\n",
      "\n",
      " superclass\n",
      "\n",
      "Test accuracy: 72.06000089645386 percent\n",
      "313/313 [==============================] - 22s 66ms/step - loss: 2.1474 - accuracy: 0.3511\n",
      "\n",
      " class\n",
      "\n",
      "Test accuracy: 35.109999775886536 percent\n",
      "313/313 [==============================] - 22s 67ms/step - loss: 3.1663 - accuracy: 0.2591\n",
      "\n",
      " subclass\n",
      "\n",
      "Test accuracy: 25.909999012947083 percent\n"
     ]
    },
    {
     "data": {
      "text/plain": [
       "0.2590999901294708"
      ]
     },
     "execution_count": 4,
     "metadata": {},
     "output_type": "execute_result"
    }
   ],
   "source": [
    "agent.getTestAccuracy('superclass')\n",
    "agent.getTestAccuracy('class')\n",
    "agent.getTestAccuracy('subclass')"
   ]
  },
  {
   "cell_type": "code",
   "execution_count": null,
   "metadata": {},
   "outputs": [],
   "source": [
    "agent.showRandomImage()"
   ]
  }
 ],
 "metadata": {
  "kernelspec": {
   "display_name": "Python 3.10.9 ('base')",
   "language": "python",
   "name": "python3"
  },
  "language_info": {
   "codemirror_mode": {
    "name": "ipython",
    "version": 3
   },
   "file_extension": ".py",
   "mimetype": "text/x-python",
   "name": "python",
   "nbconvert_exporter": "python",
   "pygments_lexer": "ipython3",
   "version": "3.10.9"
  },
  "orig_nbformat": 4,
  "vscode": {
   "interpreter": {
    "hash": "b7730287996047dc1693873011263f7f19953a6adcf41401ec5815c3ab70dbff"
   }
  }
 },
 "nbformat": 4,
 "nbformat_minor": 2
}
