{
 "cells": [
  {
   "cell_type": "code",
   "execution_count": 1,
   "metadata": {},
   "outputs": [
    {
     "name": "stdout",
     "output_type": "stream",
     "text": [
      "One or more model files weren't found, using InceptionV3 model\n",
      "Using InceptionV3 for superclass\n",
      "Using InceptionV3 for class\n",
      "Using InceptionV3 for subclass\n"
     ]
    }
   ],
   "source": [
    "from agent import Agent\n",
    "import os\n",
    "\n",
    "# Hide tensorflow's info level logs, warnings and errors will still show\n",
    "os.environ['TF_CPP_MIN_LOG_LEVEL'] = '1' \n",
    "\n",
    "agent = Agent()"
   ]
  },
  {
   "cell_type": "code",
   "execution_count": null,
   "metadata": {},
   "outputs": [],
   "source": [
    "print('Superclass confusion matrix:', agent.generateConfusionMatrix('superclass'))\n",
    "print('Class confusion matrix:', agent.generateConfusionMatrix('class'))\n",
    "print('Subclass confusion matrix:', agent.generateConfusionMatrix('subclass'))"
   ]
  },
  {
   "cell_type": "code",
   "execution_count": 2,
   "metadata": {},
   "outputs": [
    {
     "name": "stdout",
     "output_type": "stream",
     "text": [
      "\n",
      " superclass test accuracy: 69.70999836921692 percent\n",
      "\n",
      " class test accuracy: 4.740000143647194 percent\n",
      "\n",
      " subclass test accuracy: 0.839999970048666 percent\n"
     ]
    },
    {
     "data": {
      "text/plain": [
       "0.00839999970048666"
      ]
     },
     "execution_count": 2,
     "metadata": {},
     "output_type": "execute_result"
    }
   ],
   "source": [
    "agent.getTestAccuracy('superclass')\n",
    "agent.getTestAccuracy('class')\n",
    "agent.getTestAccuracy('subclass')"
   ]
  },
  {
   "cell_type": "code",
   "execution_count": null,
   "metadata": {},
   "outputs": [],
   "source": [
    "agent.showRandomImage()"
   ]
  }
 ],
 "metadata": {
  "kernelspec": {
   "display_name": "Python 3.10.9 ('base')",
   "language": "python",
   "name": "python3"
  },
  "language_info": {
   "codemirror_mode": {
    "name": "ipython",
    "version": 3
   },
   "file_extension": ".py",
   "mimetype": "text/x-python",
   "name": "python",
   "nbconvert_exporter": "python",
   "pygments_lexer": "ipython3",
   "version": "3.10.9"
  },
  "orig_nbformat": 4,
  "vscode": {
   "interpreter": {
    "hash": "b7730287996047dc1693873011263f7f19953a6adcf41401ec5815c3ab70dbff"
   }
  }
 },
 "nbformat": 4,
 "nbformat_minor": 2
}
